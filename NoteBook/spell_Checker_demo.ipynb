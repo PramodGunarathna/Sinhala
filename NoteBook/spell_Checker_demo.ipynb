{
  "nbformat": 4,
  "nbformat_minor": 0,
  "metadata": {
    "colab": {
      "provenance": []
    },
    "kernelspec": {
      "name": "python3",
      "display_name": "Python 3"
    },
    "language_info": {
      "name": "python"
    }
  },
  "cells": [
    {
      "cell_type": "code",
      "source": [
        "from spell_checker import SpellChecker\n",
        "\n",
        "spell_checker = SpellChecker('vertopal.com_sinhala_list.txt')\n",
        "incorrect_text = \"එළඹන මහ මැතවර්ණට පසුගිය ජනාධිපත්වනයට වඩා වැඩි අරක්ෂවක යෙදවමට පොලීසය තීරණය කර ඇත\"\n",
        "misspelled_words = spell_checker.check_spelling(incorrect_text)\n",
        "corrected_text = spell_checker.correct(incorrect_text)\n",
        "\n",
        "print(\"Corrected Text:\", corrected_text)"
      ],
      "metadata": {
        "colab": {
          "base_uri": "https://localhost:8080/"
        },
        "id": "xldVb69zFbJr",
        "outputId": "f6fd574f-5567-4aaf-eefb-6ea49e24bdda"
      },
      "execution_count": 21,
      "outputs": [
        {
          "output_type": "stream",
          "name": "stdout",
          "text": [
            "Corrected Text: එළඹෙන මහ මැතිවරණට පසුගිය ජනාධිපතිවරණයට වඩා වැඩි රක්ෂක යෙදවීමට පොලීසිය තීරණය කර ඇත\n"
          ]
        }
      ]
    },
    {
      "cell_type": "code",
      "source": [
        "incorrect_text = \"අපේ රටේ කෘෂිකර්මික ක්ෂේත්‍රය ප්‍රමුඛ ස්ථනයක වේ. එය ආර්ථිකය සහ සමජය සඳහා විශාල දායකත්වයක් සපයයි\"\n",
        "misspelled_words = spell_checker.check_spelling(incorrect_text)\n",
        "corrected_text = spell_checker.correct(incorrect_text)\n",
        "\n",
        "print(\"Corrected Text:\", corrected_text)"
      ],
      "metadata": {
        "colab": {
          "base_uri": "https://localhost:8080/"
        },
        "id": "dyytZXh_FnEM",
        "outputId": "103f2306-76c3-4ead-ed1c-5e24e97942cc"
      },
      "execution_count": 24,
      "outputs": [
        {
          "output_type": "stream",
          "name": "stdout",
          "text": [
            "Corrected Text: අපේ රටේ කෘෂිකාර්මික ක්ෂේත්‍රය ප්‍රමුඛ ස්ථානයක වේ එය ආර්ථිකය සහ සමාජය සඳහා විශාල දායකත්වය සපයයි\n"
          ]
        }
      ]
    },
    {
      "cell_type": "code",
      "source": [
        "incorrect_text = \"අධ්‍යපනය කෙනෙකගේ ජීවිතය වෙනස් කළ හැකි බලයක වේ. ඒ නිසා දරවන්ට හොඳ ගුණාත්මක අධ්‍යපනයක් ලබා දීම වදගත්ය.\"\n",
        "misspelled_words = spell_checker.check_spelling(incorrect_text)\n",
        "corrected_text = spell_checker.correct(incorrect_text)\n",
        "\n",
        "\n",
        "print(\"Corrected Text:\", corrected_text)"
      ],
      "metadata": {
        "colab": {
          "base_uri": "https://localhost:8080/"
        },
        "id": "6hOvkX0IFzcx",
        "outputId": "df7f0acb-f917-48f4-bfe6-6091bd58608b"
      },
      "execution_count": 25,
      "outputs": [
        {
          "output_type": "stream",
          "name": "stdout",
          "text": [
            "Corrected Text: අධ්‍යාපනය කෙනෙකුගේ ජීවිතය වෙනස් කළ හැකි බලයක් වේ ඒ නිසා දරුවන්ට හොඳ ගුණාත්මක අධ්‍යාපනයක් ලබා දීම වැදගත්ය\n"
          ]
        }
      ]
    },
    {
      "cell_type": "code",
      "source": [
        "incorrect_text = \"පරිසර ආරක්ෂව අප සැමගේ වගකමක් වේ. දැන්ම පරිසරය සුරක්ෂිත කිරීමට ක්‍රියා නොකළහත් අනාගත පරම්පරාවට විශාල ගැටලු ගණනාවක් මුහුණ දිය යුතු වෙයි.\"\n",
        "misspelled_words = spell_checker.check_spelling(incorrect_text)\n",
        "corrected_text = spell_checker.correct(incorrect_text)\n",
        "\n",
        "print(\"Corrected Text:\", corrected_text)"
      ],
      "metadata": {
        "colab": {
          "base_uri": "https://localhost:8080/"
        },
        "id": "QB8QK4HLFzVL",
        "outputId": "a233d2c7-d752-41d9-fcf2-d194d17e9816"
      },
      "execution_count": 27,
      "outputs": [
        {
          "output_type": "stream",
          "name": "stdout",
          "text": [
            "Corrected Text: පරිසර ආරක්ෂාව අප සැමගේ වගකීමක් වේ දැන්ම පරිසරය සුරක්ෂිත කිරීමට ක්‍රියා නොකළහොත් අනාගත පරම්පරාවට විශාල ගැටලු ගණනාවක් මුහුණ දිය යුතු වෙති\n"
          ]
        }
      ]
    },
    {
      "cell_type": "code",
      "source": [
        "incorrect_text = \"තාකෂණය විශාල ලෙස අපේ දෛනක ජීවිතයට බලපා ඇත\"\n",
        "misspelled_words = spell_checker.check_spelling(incorrect_text)\n",
        "corrected_text = spell_checker.correct(incorrect_text)\n",
        "\n",
        "print(\"Corrected Text:\", corrected_text)"
      ],
      "metadata": {
        "colab": {
          "base_uri": "https://localhost:8080/"
        },
        "id": "PqK7MfRTFzLZ",
        "outputId": "fdbd5b79-3114-41f0-e54d-cae833fc7362"
      },
      "execution_count": 17,
      "outputs": [
        {
          "output_type": "stream",
          "name": "stdout",
          "text": [
            "Corrected Text: තාක්ෂණය විශාල ලෙස අපේ දෛනික ජීවිතය බලපා ඇත\n"
          ]
        }
      ]
    },
    {
      "cell_type": "code",
      "source": [],
      "metadata": {
        "id": "wYhy_ZKjMtvk"
      },
      "execution_count": null,
      "outputs": []
    }
  ]
}